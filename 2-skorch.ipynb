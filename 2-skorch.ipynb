{
  "cells": [
    {
      "cell_type": "markdown",
      "source": [
        "# Skorch introduction"
      ],
      "metadata": {}
    },
    {
      "cell_type": "markdown",
      "source": [
        "*`skorch`* is designed to maximize interoperability between `sklearn` and `pytorch`. The aim is to keep 99% of the flexibility of `pytorch` while being able to leverage most features of `sklearn`. Below, we show the basic usage of `skorch` and how it can be combined with `sklearn`.\n"
      ],
      "metadata": {}
    },
    {
      "cell_type": "code",
      "source": [
        "# from skorch documentation"
      ],
      "outputs": [],
      "execution_count": 18,
      "metadata": {}
    },
    {
      "cell_type": "code",
      "source": [
        "! [ ! -z \"$COLAB_GPU\" ] && pip install torch skorch"
      ],
      "outputs": [],
      "execution_count": 1,
      "metadata": {}
    },
    {
      "cell_type": "code",
      "source": [
        "import torch\n",
        "from torch import nn\n",
        "import torch.nn.functional as F\n",
        "\ntorch.manual_seed(0);"
      ],
      "outputs": [],
      "execution_count": 5,
      "metadata": {}
    },
    {
      "cell_type": "markdown",
      "source": [
        "## Training a classifier and making predictions"
      ],
      "metadata": {}
    },
    {
      "cell_type": "markdown",
      "source": [
        "### A toy binary classification task"
      ],
      "metadata": {}
    },
    {
      "cell_type": "markdown",
      "source": [
        "We load a toy classification task from `sklearn`."
      ],
      "metadata": {}
    },
    {
      "cell_type": "code",
      "source": [
        "import numpy as np\n",
        "from sklearn.datasets import make_classification"
      ],
      "outputs": [],
      "execution_count": 1,
      "metadata": {}
    },
    {
      "cell_type": "code",
      "source": [
        "X, y = make_classification(1000, 20, n_informative=10, random_state=0)\n",
        "X = X.astype(np.float32)"
      ],
      "outputs": [],
      "execution_count": 2,
      "metadata": {}
    },
    {
      "cell_type": "code",
      "source": [
        "X.shape, y.shape, y.mean()"
      ],
      "outputs": [
        {
          "output_type": "execute_result",
          "execution_count": 3,
          "data": {
            "text/plain": [
              "((1000, 20), (1000,), 0.5)"
            ]
          },
          "metadata": {}
        }
      ],
      "execution_count": 3,
      "metadata": {
        "scrolled": true
      }
    },
    {
      "cell_type": "markdown",
      "source": [
        "### Definition of the `pytorch` classification `module`"
      ],
      "metadata": {}
    },
    {
      "cell_type": "markdown",
      "source": [
        "We define a vanilla neural network with two hidden layers. The output layer should have 2 output units since there are two classes. In addition, it should have a softmax nonlinearity, because later, when calling `predict_proba`, the output from the `forward` call will be used."
      ],
      "metadata": {}
    },
    {
      "cell_type": "code",
      "source": [
        "class ClassifierModule(nn.Module):\n",
        "    def __init__(\n",
        "            self,\n",
        "            num_units=10,\n",
        "            nonlin=F.relu,\n",
        "            dropout=0.5,\n",
        "    ):\n",
        "        super(ClassifierModule, self).__init__()\n",
        "        self.num_units = num_units\n",
        "        self.nonlin = nonlin\n",
        "        self.dropout = dropout\n",
        "\n",
        "        self.dense0 = nn.Linear(20, num_units)\n",
        "        self.nonlin = nonlin\n",
        "        self.dropout = nn.Dropout(dropout)\n",
        "        self.dense1 = nn.Linear(num_units, 10)\n",
        "        self.output = nn.Linear(10, 2)\n",
        "\n",
        "    def forward(self, X, **kwargs):\n",
        "        X = self.nonlin(self.dense0(X))\n",
        "        X = self.dropout(X)\n",
        "        X = F.relu(self.dense1(X))\n",
        "        X = F.softmax(self.output(X), dim=-1)\n",
        "        return X"
      ],
      "outputs": [],
      "execution_count": 6,
      "metadata": {}
    },
    {
      "cell_type": "markdown",
      "source": [
        "### Defining and training the neural net classifier"
      ],
      "metadata": {}
    },
    {
      "cell_type": "markdown",
      "source": [
        "We use `NeuralNetClassifier` because we're dealing with a classifcation task. The first argument should be the `pytorch module`. As additional arguments, we pass the number of epochs and the learning rate (`lr`), but those are optional.\n",
        "\n*Note*: To use the CUDA backend, pass `device='cuda'` as an additional argument."
      ],
      "metadata": {}
    },
    {
      "cell_type": "code",
      "source": [
        "from skorch import NeuralNetClassifier"
      ],
      "outputs": [],
      "execution_count": 7,
      "metadata": {}
    },
    {
      "cell_type": "code",
      "source": [
        "net = NeuralNetClassifier(\n",
        "    ClassifierModule,\n",
        "    max_epochs=20,\n",
        "    lr=0.1,\n",
        "#     device='cuda',  # uncomment this to train with CUDA\n",
        ")"
      ],
      "outputs": [],
      "execution_count": 8,
      "metadata": {}
    },
    {
      "cell_type": "markdown",
      "source": [
        "As in `sklearn`, we call `fit` passing the input data `X` and the targets `y`. By default, `NeuralNetClassifier` makes a `StratifiedKFold` split on the data (80/20) to track the validation loss. This is shown, as well as the train loss and the accuracy on the validation set."
      ],
      "metadata": {}
    },
    {
      "cell_type": "code",
      "source": [
        "pdb on"
      ],
      "outputs": [
        {
          "output_type": "stream",
          "name": "stdout",
          "text": [
            "Automatic pdb calling has been turned ON\n"
          ]
        }
      ],
      "execution_count": 9,
      "metadata": {}
    },
    {
      "cell_type": "code",
      "source": [
        "net.fit(X, y)"
      ],
      "outputs": [
        {
          "output_type": "stream",
          "name": "stdout",
          "text": [
            "  epoch    train_loss    valid_acc    valid_loss     dur\n",
            "-------  ------------  -----------  ------------  ------\n",
            "      1        \u001b[36m0.6905\u001b[0m       \u001b[32m0.6150\u001b[0m        \u001b[35m0.6749\u001b[0m  0.0921\n",
            "      2        \u001b[36m0.6648\u001b[0m       \u001b[32m0.6450\u001b[0m        \u001b[35m0.6633\u001b[0m  0.0351\n",
            "      3        \u001b[36m0.6619\u001b[0m       \u001b[32m0.6750\u001b[0m        \u001b[35m0.6533\u001b[0m  0.0164\n",
            "      4        \u001b[36m0.6429\u001b[0m       \u001b[32m0.6800\u001b[0m        \u001b[35m0.6399\u001b[0m  0.0177\n",
            "      5        \u001b[36m0.6307\u001b[0m       \u001b[32m0.6950\u001b[0m        \u001b[35m0.6254\u001b[0m  0.0174\n",
            "      6        \u001b[36m0.6291\u001b[0m       \u001b[32m0.7000\u001b[0m        \u001b[35m0.6134\u001b[0m  0.0165\n",
            "      7        \u001b[36m0.6102\u001b[0m       \u001b[32m0.7100\u001b[0m        \u001b[35m0.6033\u001b[0m  0.0168\n",
            "      8        \u001b[36m0.6050\u001b[0m       0.7000        \u001b[35m0.5931\u001b[0m  0.0168\n",
            "      9        \u001b[36m0.5966\u001b[0m       0.7000        \u001b[35m0.5844\u001b[0m  0.0212\n",
            "     10        \u001b[36m0.5636\u001b[0m       0.7100        \u001b[35m0.5689\u001b[0m  0.0239\n",
            "     11        0.5757       \u001b[32m0.7200\u001b[0m        \u001b[35m0.5628\u001b[0m  0.0191\n",
            "     12        0.5757       0.7200        \u001b[35m0.5520\u001b[0m  0.0196\n",
            "     13        \u001b[36m0.5559\u001b[0m       \u001b[32m0.7300\u001b[0m        \u001b[35m0.5459\u001b[0m  0.0181\n",
            "     14        \u001b[36m0.5541\u001b[0m       0.7300        \u001b[35m0.5424\u001b[0m  0.0216\n",
            "     15        0.5659       \u001b[32m0.7350\u001b[0m        \u001b[35m0.5378\u001b[0m  0.0206\n",
            "     16        \u001b[36m0.5364\u001b[0m       0.7350        \u001b[35m0.5322\u001b[0m  0.0230\n",
            "     17        0.5456       0.7300        \u001b[35m0.5239\u001b[0m  0.0216\n",
            "     18        0.5476       \u001b[32m0.7450\u001b[0m        0.5260  0.0213\n",
            "     19        0.5499       \u001b[32m0.7500\u001b[0m        0.5249  0.0187\n",
            "     20        \u001b[36m0.5273\u001b[0m       0.7350        0.5251  0.0179\n"
          ]
        },
        {
          "output_type": "execute_result",
          "execution_count": 9,
          "data": {
            "text/plain": [
              "<class 'skorch.classifier.NeuralNetClassifier'>[initialized](\n",
              "  module_=ClassifierModule(\n",
              "    (dense0): Linear(in_features=20, out_features=10, bias=True)\n",
              "    (dropout): Dropout(p=0.5)\n",
              "    (dense1): Linear(in_features=10, out_features=10, bias=True)\n",
              "    (output): Linear(in_features=10, out_features=2, bias=True)\n",
              "  ),\n",
              ")"
            ]
          },
          "metadata": {}
        }
      ],
      "execution_count": 9,
      "metadata": {
        "scrolled": false
      }
    },
    {
      "cell_type": "markdown",
      "source": [
        "Also, as in `sklearn`, you may call `predict` or `predict_proba` on the fitted model."
      ],
      "metadata": {}
    },
    {
      "cell_type": "markdown",
      "source": [
        "### Making predictions, classification"
      ],
      "metadata": {}
    },
    {
      "cell_type": "code",
      "source": [
        "y_pred = net.predict(X[:5])\n",
        "y_pred"
      ],
      "outputs": [
        {
          "output_type": "execute_result",
          "execution_count": 10,
          "data": {
            "text/plain": [
              "array([0, 0, 0, 0, 0])"
            ]
          },
          "metadata": {}
        }
      ],
      "execution_count": 10,
      "metadata": {}
    },
    {
      "cell_type": "code",
      "source": [
        "y_proba = net.predict_proba(X[:5])\n",
        "y_proba"
      ],
      "outputs": [
        {
          "output_type": "execute_result",
          "execution_count": 11,
          "data": {
            "text/plain": [
              "array([[ 0.53494632,  0.46505362],\n",
              "       [ 0.86850929,  0.13149074],\n",
              "       [ 0.68600392,  0.31399611],\n",
              "       [ 0.91260117,  0.08739878],\n",
              "       [ 0.69675469,  0.30324531]], dtype=float32)"
            ]
          },
          "metadata": {}
        }
      ],
      "execution_count": 11,
      "metadata": {}
    },
    {
      "cell_type": "markdown",
      "source": [
        "## Usage with sklearn `GridSearchCV`"
      ],
      "metadata": {}
    },
    {
      "cell_type": "markdown",
      "source": [
        "### Special prefixes"
      ],
      "metadata": {}
    },
    {
      "cell_type": "markdown",
      "source": [
        "The `NeuralNet` class allows to directly access parameters of the `pytorch module` by using the `module__` prefix. So e.g. if you defined the `module` to have a `num_units` parameter, you can set it via the `module__num_units` argument. This is exactly the same logic that allows to access estimator parameters in `sklearn Pipeline`s and `FeatureUnion`s."
      ],
      "metadata": {}
    },
    {
      "cell_type": "markdown",
      "source": [
        "This feature is useful in several ways. For one, it allows to set those parameters in the model definition. Furthermore, it allows you to set parameters in an `sklearn GridSearchCV` as shown below."
      ],
      "metadata": {}
    },
    {
      "cell_type": "markdown",
      "source": [
        "In addition to the parameters prefixed by `module__`, you may access a couple of other attributes, such as those of the optimizer by using the `optimizer__` prefix (again, see below). All those special prefixes are stored in the `prefixes_` attribute:"
      ],
      "metadata": {}
    },
    {
      "cell_type": "code",
      "source": [
        "print(', '.join(net.prefixes_))"
      ],
      "outputs": [
        {
          "output_type": "stream",
          "name": "stdout",
          "text": [
            "module, iterator_train, iterator_valid, optimizer, criterion, callbacks, dataset\n"
          ]
        }
      ],
      "execution_count": 36,
      "metadata": {}
    },
    {
      "cell_type": "markdown",
      "source": [
        "### Performing a grid search"
      ],
      "metadata": {}
    },
    {
      "cell_type": "markdown",
      "source": [
        "Below we show how to perform a grid search over the learning rate (`lr`), the module's number of hidden units (`module__num_units`), the module's dropout rate (`module__dropout`), and whether the SGD optimizer should use Nesterov momentum or not (`optimizer__nesterov`)."
      ],
      "metadata": {}
    },
    {
      "cell_type": "code",
      "source": [
        "from sklearn.model_selection import GridSearchCV"
      ],
      "outputs": [],
      "execution_count": 12,
      "metadata": {}
    },
    {
      "cell_type": "code",
      "source": [
        "net = NeuralNetClassifier(\n",
        "    ClassifierModule,\n",
        "    max_epochs=20,\n",
        "    lr=0.1,\n",
        "    verbose=0,\n",
        "    optimizer__momentum=0.9,\n",
        ")"
      ],
      "outputs": [],
      "execution_count": 13,
      "metadata": {}
    },
    {
      "cell_type": "code",
      "source": [
        "params = {\n",
        "    'lr': [0.05, 0.1],\n",
        "    'module__num_units': <YOUR CODE>, # range for number of units\n",
        "    'module__dropout': <YOUR CODE>, # range for possible dropout rates\n",
        "    'optimizer__nesterov': [False, True],\n",
        "}"
      ],
      "outputs": [],
      "execution_count": 14,
      "metadata": {}
    },
    {
      "cell_type": "code",
      "source": [
        "gs = GridSearchCV(net, params, refit=False, cv=3, scoring='accuracy', verbose=2)"
      ],
      "outputs": [],
      "execution_count": 15,
      "metadata": {}
    },
    {
      "cell_type": "code",
      "source": [
        "gs.fit(X, y)"
      ],
      "outputs": [
        {
          "output_type": "stream",
          "name": "stdout",
          "text": [
            "Fitting 3 folds for each of 16 candidates, totalling 48 fits\n",
            "[CV] module__num_units=10, lr=0.05, optimizer__nesterov=False, module__dropout=0 \n",
            "[CV]  module__num_units=10, lr=0.05, optimizer__nesterov=False, module__dropout=0, total=   0.4s\n",
            "[CV] module__num_units=10, lr=0.05, optimizer__nesterov=False, module__dropout=0 \n",
            "[CV]  module__num_units=10, lr=0.05, optimizer__nesterov=False, module__dropout=0, total=   0.4s\n",
            "[CV] module__num_units=10, lr=0.05, optimizer__nesterov=False, module__dropout=0 \n",
            "[CV]  module__num_units=10, lr=0.05, optimizer__nesterov=False, module__dropout=0, total=   0.3s\n",
            "[CV] module__num_units=10, lr=0.05, optimizer__nesterov=True, module__dropout=0 \n",
            "[CV]  module__num_units=10, lr=0.05, optimizer__nesterov=True, module__dropout=0, total=   0.3s\n",
            "[CV] module__num_units=10, lr=0.05, optimizer__nesterov=True, module__dropout=0 \n",
            "[CV]  module__num_units=10, lr=0.05, optimizer__nesterov=True, module__dropout=0, total=   0.3s\n",
            "[CV] module__num_units=10, lr=0.05, optimizer__nesterov=True, module__dropout=0 \n",
            "[CV]  module__num_units=10, lr=0.05, optimizer__nesterov=True, module__dropout=0, total=   0.4s\n",
            "[CV] module__num_units=20, lr=0.05, optimizer__nesterov=False, module__dropout=0 \n",
            "[CV]  module__num_units=20, lr=0.05, optimizer__nesterov=False, module__dropout=0, total=   0.3s\n",
            "[CV] module__num_units=20, lr=0.05, optimizer__nesterov=False, module__dropout=0 \n",
            "[CV]  module__num_units=20, lr=0.05, optimizer__nesterov=False, module__dropout=0, total=   0.3s\n",
            "[CV] module__num_units=20, lr=0.05, optimizer__nesterov=False, module__dropout=0 \n",
            "[CV]  module__num_units=20, lr=0.05, optimizer__nesterov=False, module__dropout=0, total=   0.3s\n",
            "[CV] module__num_units=20, lr=0.05, optimizer__nesterov=True, module__dropout=0 \n",
            "[CV]  module__num_units=20, lr=0.05, optimizer__nesterov=True, module__dropout=0, total=   0.4s\n",
            "[CV] module__num_units=20, lr=0.05, optimizer__nesterov=True, module__dropout=0 \n",
            "[CV]  module__num_units=20, lr=0.05, optimizer__nesterov=True, module__dropout=0, total=   0.4s\n",
            "[CV] module__num_units=20, lr=0.05, optimizer__nesterov=True, module__dropout=0 \n",
            "[CV]  module__num_units=20, lr=0.05, optimizer__nesterov=True, module__dropout=0, total=   0.3s\n",
            "[CV] module__num_units=10, lr=0.05, optimizer__nesterov=False, module__dropout=0.5 \n",
            "[CV]  module__num_units=10, lr=0.05, optimizer__nesterov=False, module__dropout=0.5, total=   0.4s\n",
            "[CV] module__num_units=10, lr=0.05, optimizer__nesterov=False, module__dropout=0.5 \n",
            "[CV]  module__num_units=10, lr=0.05, optimizer__nesterov=False, module__dropout=0.5, total=   0.4s\n",
            "[CV] module__num_units=10, lr=0.05, optimizer__nesterov=False, module__dropout=0.5 \n",
            "[CV]  module__num_units=10, lr=0.05, optimizer__nesterov=False, module__dropout=0.5, total=   0.5s\n",
            "[CV] module__num_units=10, lr=0.05, optimizer__nesterov=True, module__dropout=0.5 \n",
            "[CV]  module__num_units=10, lr=0.05, optimizer__nesterov=True, module__dropout=0.5, total=   0.5s\n",
            "[CV] module__num_units=10, lr=0.05, optimizer__nesterov=True, module__dropout=0.5 \n",
            "[CV]  module__num_units=10, lr=0.05, optimizer__nesterov=True, module__dropout=0.5, total=   0.5s\n",
            "[CV] module__num_units=10, lr=0.05, optimizer__nesterov=True, module__dropout=0.5 \n",
            "[CV]  module__num_units=10, lr=0.05, optimizer__nesterov=True, module__dropout=0.5, total=   0.6s\n",
            "[CV] module__num_units=20, lr=0.05, optimizer__nesterov=False, module__dropout=0.5 \n",
            "[CV]  module__num_units=20, lr=0.05, optimizer__nesterov=False, module__dropout=0.5, total=   0.4s\n",
            "[CV] module__num_units=20, lr=0.05, optimizer__nesterov=False, module__dropout=0.5 \n",
            "[CV]  module__num_units=20, lr=0.05, optimizer__nesterov=False, module__dropout=0.5, total=   0.3s\n",
            "[CV] module__num_units=20, lr=0.05, optimizer__nesterov=False, module__dropout=0.5 \n",
            "[CV]  module__num_units=20, lr=0.05, optimizer__nesterov=False, module__dropout=0.5, total=   0.5s\n",
            "[CV] module__num_units=20, lr=0.05, optimizer__nesterov=True, module__dropout=0.5 \n",
            "[CV]  module__num_units=20, lr=0.05, optimizer__nesterov=True, module__dropout=0.5, total=   0.4s\n",
            "[CV] module__num_units=20, lr=0.05, optimizer__nesterov=True, module__dropout=0.5 \n",
            "[CV]  module__num_units=20, lr=0.05, optimizer__nesterov=True, module__dropout=0.5, total=   0.4s\n",
            "[CV] module__num_units=20, lr=0.05, optimizer__nesterov=True, module__dropout=0.5 \n",
            "[CV]  module__num_units=20, lr=0.05, optimizer__nesterov=True, module__dropout=0.5, total=   0.3s\n",
            "[CV] module__num_units=10, lr=0.1, optimizer__nesterov=False, module__dropout=0 \n",
            "[CV]  module__num_units=10, lr=0.1, optimizer__nesterov=False, module__dropout=0, total=   0.3s\n",
            "[CV] module__num_units=10, lr=0.1, optimizer__nesterov=False, module__dropout=0 \n",
            "[CV]  module__num_units=10, lr=0.1, optimizer__nesterov=False, module__dropout=0, total=   0.4s\n",
            "[CV] module__num_units=10, lr=0.1, optimizer__nesterov=False, module__dropout=0 \n",
            "[CV]  module__num_units=10, lr=0.1, optimizer__nesterov=False, module__dropout=0, total=   0.4s\n",
            "[CV] module__num_units=10, lr=0.1, optimizer__nesterov=True, module__dropout=0 \n",
            "[CV]  module__num_units=10, lr=0.1, optimizer__nesterov=True, module__dropout=0, total=   0.5s\n",
            "[CV] module__num_units=10, lr=0.1, optimizer__nesterov=True, module__dropout=0 \n",
            "[CV]  module__num_units=10, lr=0.1, optimizer__nesterov=True, module__dropout=0, total=   0.3s\n",
            "[CV] module__num_units=10, lr=0.1, optimizer__nesterov=True, module__dropout=0 \n",
            "[CV]  module__num_units=10, lr=0.1, optimizer__nesterov=True, module__dropout=0, total=   0.3s\n",
            "[CV] module__num_units=20, lr=0.1, optimizer__nesterov=False, module__dropout=0 \n",
            "[CV]  module__num_units=20, lr=0.1, optimizer__nesterov=False, module__dropout=0, total=   0.3s\n",
            "[CV] module__num_units=20, lr=0.1, optimizer__nesterov=False, module__dropout=0 \n",
            "[CV]  module__num_units=20, lr=0.1, optimizer__nesterov=False, module__dropout=0, total=   0.3s\n",
            "[CV] module__num_units=20, lr=0.1, optimizer__nesterov=False, module__dropout=0 \n",
            "[CV]  module__num_units=20, lr=0.1, optimizer__nesterov=False, module__dropout=0, total=   0.4s\n",
            "[CV] module__num_units=20, lr=0.1, optimizer__nesterov=True, module__dropout=0 \n",
            "[CV]  module__num_units=20, lr=0.1, optimizer__nesterov=True, module__dropout=0, total=   0.4s\n",
            "[CV] module__num_units=20, lr=0.1, optimizer__nesterov=True, module__dropout=0 \n",
            "[CV]  module__num_units=20, lr=0.1, optimizer__nesterov=True, module__dropout=0, total=   0.3s\n",
            "[CV] module__num_units=20, lr=0.1, optimizer__nesterov=True, module__dropout=0 \n",
            "[CV]  module__num_units=20, lr=0.1, optimizer__nesterov=True, module__dropout=0, total=   0.4s\n",
            "[CV] module__num_units=10, lr=0.1, optimizer__nesterov=False, module__dropout=0.5 \n",
            "[CV]  module__num_units=10, lr=0.1, optimizer__nesterov=False, module__dropout=0.5, total=   0.4s\n",
            "[CV] module__num_units=10, lr=0.1, optimizer__nesterov=False, module__dropout=0.5 \n",
            "[CV]  module__num_units=10, lr=0.1, optimizer__nesterov=False, module__dropout=0.5, total=   0.3s\n",
            "[CV] module__num_units=10, lr=0.1, optimizer__nesterov=False, module__dropout=0.5 \n",
            "[CV]  module__num_units=10, lr=0.1, optimizer__nesterov=False, module__dropout=0.5, total=   0.3s\n",
            "[CV] module__num_units=10, lr=0.1, optimizer__nesterov=True, module__dropout=0.5 \n",
            "[CV]  module__num_units=10, lr=0.1, optimizer__nesterov=True, module__dropout=0.5, total=   0.4s\n",
            "[CV] module__num_units=10, lr=0.1, optimizer__nesterov=True, module__dropout=0.5 \n",
            "[CV]  module__num_units=10, lr=0.1, optimizer__nesterov=True, module__dropout=0.5, total=   0.3s\n",
            "[CV] module__num_units=10, lr=0.1, optimizer__nesterov=True, module__dropout=0.5 \n",
            "[CV]  module__num_units=10, lr=0.1, optimizer__nesterov=True, module__dropout=0.5, total=   0.4s\n",
            "[CV] module__num_units=20, lr=0.1, optimizer__nesterov=False, module__dropout=0.5 \n",
            "[CV]  module__num_units=20, lr=0.1, optimizer__nesterov=False, module__dropout=0.5, total=   0.4s\n",
            "[CV] module__num_units=20, lr=0.1, optimizer__nesterov=False, module__dropout=0.5 \n",
            "[CV]  module__num_units=20, lr=0.1, optimizer__nesterov=False, module__dropout=0.5, total=   0.4s\n",
            "[CV] module__num_units=20, lr=0.1, optimizer__nesterov=False, module__dropout=0.5 \n",
            "[CV]  module__num_units=20, lr=0.1, optimizer__nesterov=False, module__dropout=0.5, total=   0.3s\n",
            "[CV] module__num_units=20, lr=0.1, optimizer__nesterov=True, module__dropout=0.5 \n",
            "[CV]  module__num_units=20, lr=0.1, optimizer__nesterov=True, module__dropout=0.5, total=   0.3s\n",
            "[CV] module__num_units=20, lr=0.1, optimizer__nesterov=True, module__dropout=0.5 \n",
            "[CV]  module__num_units=20, lr=0.1, optimizer__nesterov=True, module__dropout=0.5, total=   0.3s\n",
            "[CV] module__num_units=20, lr=0.1, optimizer__nesterov=True, module__dropout=0.5 \n",
            "[CV]  module__num_units=20, lr=0.1, optimizer__nesterov=True, module__dropout=0.5, total=   0.3s\n"
          ]
        },
        {
          "output_type": "stream",
          "name": "stderr",
          "text": [
            "[Parallel(n_jobs=1)]: Done   1 out of   1 | elapsed:    0.4s remaining:    0.0s\n",
            "[Parallel(n_jobs=1)]: Done  48 out of  48 | elapsed:   18.7s finished\n"
          ]
        },
        {
          "output_type": "execute_result",
          "execution_count": 16,
          "data": {
            "text/plain": [
              "GridSearchCV(cv=3, error_score='raise',\n",
              "       estimator=<class 'skorch.classifier.NeuralNetClassifier'>[uninitialized](\n",
              "  module=<class '__main__.ClassifierModule'>,\n",
              "),\n",
              "       fit_params=None, iid=True, n_jobs=1,\n",
              "       param_grid={'module__num_units': [10, 20], 'lr': [0.05, 0.1], 'optimizer__nesterov': [False, True], 'module__dropout': [0, 0.5]},\n",
              "       pre_dispatch='2*n_jobs', refit=False, return_train_score='warn',\n",
              "       scoring='accuracy', verbose=2)"
            ]
          },
          "metadata": {}
        }
      ],
      "execution_count": 16,
      "metadata": {}
    },
    {
      "cell_type": "code",
      "source": [
        "print(gs.best_score_, gs.best_params_)"
      ],
      "outputs": [
        {
          "output_type": "stream",
          "name": "stdout",
          "text": [
            "0.855 {'module__num_units': 20, 'lr': 0.05, 'optimizer__nesterov': True, 'module__dropout': 0}\n"
          ]
        }
      ],
      "execution_count": 17,
      "metadata": {
        "scrolled": true
      }
    }
  ],
  "metadata": {
    "kernelspec": {
      "name": "python3",
      "language": "python",
      "display_name": "Python 3"
    },
    "language_info": {
      "name": "python",
      "nbconvert_exporter": "python",
      "mimetype": "text/x-python",
      "pygments_lexer": "ipython3",
      "codemirror_mode": {
        "name": "ipython",
        "version": 3
      },
      "file_extension": ".py",
      "version": "3.5.2"
    },
    "kernel_info": {
      "name": "python3"
    },
    "nteract": {
      "version": "0.12.3"
    }
  },
  "nbformat": 4,
  "nbformat_minor": 2
}