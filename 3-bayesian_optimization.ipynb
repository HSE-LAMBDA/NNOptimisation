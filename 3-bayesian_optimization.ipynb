{
  "cells": [
    {
      "cell_type": "markdown",
      "source": [
        "# Bayesian optimization with `skopt`\n"
      ],
      "metadata": {
        "id": "bwJ8PhXrr5OW",
        "colab_type": "text"
      }
    },
    {
      "cell_type": "code",
      "source": [
        "# From Scikit-optimize documentation"
      ],
      "outputs": [],
      "execution_count": null,
      "metadata": {
        "collapsed": false,
        "outputHidden": false,
        "inputHidden": false
      }
    },
    {
      "cell_type": "code",
      "source": [
        "!pip install scikit-optimize"
      ],
      "outputs": [],
      "execution_count": null,
      "metadata": {
        "id": "6mH_S_RfsRo-",
        "colab_type": "code",
        "colab": {
          "base_uri": "https://localhost:8080/",
          "height": 181
        },
        "outputId": "d7fbde53-f7ec-4e2e-926b-d642775c384f"
      }
    },
    {
      "cell_type": "code",
      "source": [
        "import numpy as np\n",
        "np.random.seed(123)\n",
        "\n",
        "%matplotlib inline\n",
        "import matplotlib.pyplot as plt\n"
      ],
      "outputs": [],
      "execution_count": null,
      "metadata": {
        "id": "MnKNBiQTr5Oc",
        "colab_type": "code",
        "colab": {}
      }
    },
    {
      "cell_type": "markdown",
      "source": [
        "## Problem statement\n",
        "\n",
        "We are interested in solving $$x^* = \\arg \\min_x f(x)$$ under the constraints that\n",
        "\n",
        "- $f$ is a black box for which no closed form is known (nor its gradients);\n",
        "- $f$ is expensive to evaluate;\n",
        "- and evaluations of $y = f(x)$ may be noisy.\n",
        "\n**Disclaimer.** If you do not have these constraints, then there is certainly a better optimization algorithm than Bayesian optimization."
      ],
      "metadata": {
        "id": "jlaCUkzDr5Of",
        "colab_type": "text"
      }
    },
    {
      "cell_type": "markdown",
      "source": [
        "## Bayesian optimization loop\n",
        "\n",
        "For $t=1:T$:\n",
        "\n",
        "1. Given observations $(x_i, y_i=f(x_i))$ for $i=1:t$, build a probabilistic model for the objective $f$. Integrate out all possible true functions, using Gaussian process regression.\n",
        "   \n",
        "2. optimize a cheap acquisition/utility function $u$ based on the posterior distribution for sampling the next point.\n",
        "   $$x_{t+1} = \\arg \\min_x u(x)$$\n",
        "   Exploit uncertainty to balance exploration against exploitation.\n",
        "    \n",
        "3. Sample the next observation $y_{t+1}$ at $x_{t+1}$."
      ],
      "metadata": {
        "id": "pmgZ0mKtr5Og",
        "colab_type": "text"
      }
    },
    {
      "cell_type": "markdown",
      "source": [
        "## Acquisition functions\n",
        "\n",
        "Acquisition functions $\\text{u}(x)$ specify which sample $x$ should be tried next:\n",
        "\n",
        "- Expected improvement (default): $-\\text{EI}(x) = -\\mathbb{E} [f(x) - f(x_t^+)] $;\n",
        "- Lower confidence bound: $\\text{LCB}(x) = \\mu_{GP}(x) + \\kappa \\sigma_{GP}(x)$;\n",
        "- Probability of improvement: $-\\text{PI}(x) = -P(f(x) \\geq f(x_t^+) + \\kappa) $;\n",
        "\n",
        "where $x_t^+$ is the best point observed so far.\n",
        "\n",
        "In most cases, acquisition functions provide knobs (e.g., $\\kappa$) for\n",
        "controlling the exploration-exploitation trade-off.\n",
        "- Search in regions where $\\mu_{GP}(x)$ is high (exploitation)\n",
        "- Probe regions where uncertainty $\\sigma_{GP}(x)$ is high (exploration)"
      ],
      "metadata": {
        "id": "aAqmi_Qkr5Oh",
        "colab_type": "text"
      }
    },
    {
      "cell_type": "markdown",
      "source": [
        "## Toy example\n",
        "\nLet assume the following noisy function $f$:"
      ],
      "metadata": {
        "id": "MTpBMSBgr5Oi",
        "colab_type": "text"
      }
    },
    {
      "cell_type": "code",
      "source": [
        "noise_level = 0.1\n",
        "\n",
        "def f(x, noise_level=noise_level):\n",
        "    return np.sin(5 * x[0]) * (1 - np.tanh(x[0] ** 2)) + np.random.randn() * noise_level"
      ],
      "outputs": [],
      "execution_count": null,
      "metadata": {
        "id": "LjmxyN1lr5Oj",
        "colab_type": "code",
        "colab": {}
      }
    },
    {
      "cell_type": "markdown",
      "source": [
        "**Note.** In `skopt`, functions $f$ are assumed to take as input a 1D vector $x$ represented as an array-like and to return a scalar $f(x)$."
      ],
      "metadata": {
        "id": "VTgTMwxtr5Or",
        "colab_type": "text"
      }
    },
    {
      "cell_type": "code",
      "source": [
        "# Plot f(x) + contours\n",
        "x = np.linspace(-2, 2, 400).reshape(-1, 1)\n",
        "fx = [f(x_i, noise_level=0.0) for x_i in x]\n",
        "plt.plot(x, fx, \"r--\", label=\"True (unknown)\")\n",
        "plt.fill(np.concatenate([x, x[::-1]]),\n",
        "         np.concatenate(([fx_i - 1.9600 * noise_level for fx_i in fx], \n",
        "                         [fx_i + 1.9600 * noise_level for fx_i in fx[::-1]])),\n",
        "         alpha=.2, fc=\"r\", ec=\"None\")\n",
        "plt.legend()\n",
        "plt.grid()\n",
        "plt.show()"
      ],
      "outputs": [],
      "execution_count": null,
      "metadata": {
        "id": "DH9bgGLDr5Os",
        "colab_type": "code",
        "colab": {
          "base_uri": "https://localhost:8080/",
          "height": 265
        },
        "outputId": "f93a195b-1ef0-4961-db21-dbe7f986dcac"
      }
    },
    {
      "cell_type": "markdown",
      "source": [
        "Bayesian optimization based on gaussian process regression is implemented in `skopt.gp_minimize` and can be carried out as follows:"
      ],
      "metadata": {
        "id": "4kYkbiPLr5Ow",
        "colab_type": "text"
      }
    },
    {
      "cell_type": "code",
      "source": [
        "from skopt import gp_minimize\n",
        "\n",
        "res = gp_minimize(f,                  # the function to minimize\n",
        "                  [(-2.0, 2.0)],      # the bounds on each dimension of x\n",
        "                  acq_func=\"EI\",      # the acquisition function\n",
        "                  n_calls=15,         # the number of evaluations of f \n",
        "                  n_random_starts=5,  # the number of random initialization points\n",
        "                  noise=0.1**2,       # the noise level (optional)\n",
        "                  random_state=123)   # the random seed"
      ],
      "outputs": [],
      "execution_count": null,
      "metadata": {
        "id": "1q2eIDKKr5Ox",
        "colab_type": "code",
        "colab": {}
      }
    },
    {
      "cell_type": "markdown",
      "source": [
        "Accordingly, the approximated minimum is found to be:"
      ],
      "metadata": {
        "id": "eQiYlGgJr5O0",
        "colab_type": "text"
      }
    },
    {
      "cell_type": "code",
      "source": [
        "\"x^*=%.4f, f(x^*)=%.4f\" % (res.x[0], res.fun)"
      ],
      "outputs": [],
      "execution_count": null,
      "metadata": {
        "id": "NeucD45_r5O1",
        "colab_type": "code",
        "colab": {
          "base_uri": "https://localhost:8080/",
          "height": 35
        },
        "outputId": "15c9157a-26bf-4498-b71f-cc5a63a0a0a1"
      }
    },
    {
      "cell_type": "markdown",
      "source": [
        "For further inspection of the results, attributes of the `res` named tuple provide the following information:\n",
        "\n",
        "- `x` [float]: location of the minimum.\n",
        "- `fun` [float]: function value at the minimum.\n",
        "- `models`: surrogate models used for each iteration.\n",
        "- `x_iters` [array]: location of function evaluation for each\n",
        "   iteration.\n",
        "- `func_vals` [array]: function value for each iteration.\n",
        "- `space` [Space]: the optimization space.\n",
        "- `specs` [dict]: parameters passed to the function."
      ],
      "metadata": {
        "id": "hJBfwbImr5O4",
        "colab_type": "text"
      }
    },
    {
      "cell_type": "code",
      "source": [
        "print(res)"
      ],
      "outputs": [],
      "execution_count": null,
      "metadata": {
        "id": "W7NIHL6Fr5O6",
        "colab_type": "code",
        "colab": {
          "base_uri": "https://localhost:8080/",
          "height": 1081
        },
        "outputId": "3775b568-3f0d-4ba7-913b-70b60047c676"
      }
    },
    {
      "cell_type": "markdown",
      "source": [
        "Together these attributes can be used to visually inspect the results of the minimization, such as the convergence trace or the acquisition function at the last iteration:"
      ],
      "metadata": {
        "id": "ecF9k4WNr5O9",
        "colab_type": "text"
      }
    },
    {
      "cell_type": "code",
      "source": [
        "from skopt.plots import plot_convergence\n",
        "plot_convergence(res);"
      ],
      "outputs": [],
      "execution_count": null,
      "metadata": {
        "id": "hHBapR-Jr5O-",
        "colab_type": "code",
        "colab": {
          "base_uri": "https://localhost:8080/",
          "height": 296
        },
        "outputId": "54769d10-84e5-4a28-be39-d32524a1da82"
      }
    },
    {
      "cell_type": "markdown",
      "source": [
        "Let us now visually examine\n",
        "\n",
        "1. The approximation of the fit gp model to the original function.\n",
        "2. The acquistion values that determine the next point to be queried."
      ],
      "metadata": {
        "id": "4Av5niUnr5PB",
        "colab_type": "text"
      }
    },
    {
      "cell_type": "code",
      "source": [
        "from skopt.acquisition import gaussian_ei\n",
        "\n",
        "plt.rcParams[\"figure.figsize\"] = (12, 21)\n",
        "\n",
        "x = np.linspace(-2, 2, 400).reshape(-1, 1)\n",
        "x_gp = res.space.transform(x.tolist())\n",
        "fx = np.array([f(x_i, noise_level=0.0) for x_i in x])\n",
        "\n",
        "# Plot the 5 iterations following the 5 random points\n",
        "for n_iter in range(5):\n",
        "    gp = res.models[n_iter]\n",
        "    curr_x_iters = res.x_iters[:5+n_iter]\n",
        "    curr_func_vals = res.func_vals[:5+n_iter]\n",
        "\n",
        "    # Plot true function.\n",
        "    plt.subplot(5, 2, 2*n_iter+1)\n",
        "    plt.plot(x, fx, \"r--\", label=\"True (unknown)\")\n",
        "    plt.fill(np.concatenate([x, x[::-1]]),\n",
        "             np.concatenate([fx - 1.9600 * noise_level, \n",
        "                             fx[::-1] + 1.9600 * noise_level]),\n",
        "             alpha=.2, fc=\"r\", ec=\"None\")\n",
        "\n",
        "    # Plot GP(x) + contours\n",
        "    y_pred, sigma = gp.predict(x_gp, return_std=True)\n",
        "    plt.plot(x, y_pred, \"g--\", label=r\"$\\mu_{GP}(x)$\")\n",
        "    plt.fill(np.concatenate([x, x[::-1]]),\n",
        "             np.concatenate([y_pred - 1.9600 * sigma, \n",
        "                             (y_pred + 1.9600 * sigma)[::-1]]),\n",
        "             alpha=.2, fc=\"g\", ec=\"None\")\n",
        "\n",
        "    # Plot sampled points\n",
        "    plt.plot(curr_x_iters, curr_func_vals,\n",
        "             \"r.\", markersize=8, label=\"Observations\")\n",
        "    \n",
        "    # Adjust plot layout\n",
        "    plt.grid()\n",
        "\n",
        "    if n_iter == 0:\n",
        "        plt.legend(loc=\"best\", prop={'size': 6}, numpoints=1)\n",
        "        \n",
        "    if n_iter != 4:\n",
        "        plt.tick_params(axis='x', which='both', bottom=False, \n",
        "                        top=False, labelbottom=False) \n",
        "\n",
        "    # Plot EI(x)\n",
        "    plt.subplot(5, 2, 2*n_iter+2)\n",
        "    acq = gaussian_ei(x_gp, gp, y_opt=np.min(curr_func_vals))\n",
        "    plt.plot(x, acq, \"b\", label=\"EI(x)\")\n",
        "    plt.fill_between(x.ravel(), -2.0, acq.ravel(), alpha=0.3, color='blue')\n",
        "    \n",
        "    next_x = res.x_iters[5+n_iter]\n",
        "    next_acq = gaussian_ei(res.space.transform([next_x]), gp, y_opt=np.min(curr_func_vals))\n",
        "    plt.plot(next_x, next_acq, \"bo\", markersize=6, label=\"Next query point\")\n",
        "    \n",
        "    # Adjust plot layout\n",
        "    plt.ylim(0, 0.1)\n",
        "    plt.grid()\n",
        "    \n",
        "    if n_iter == 0:\n",
        "        plt.legend(loc=\"best\", prop={'size': 6}, numpoints=1)\n",
        "        \n",
        "    if n_iter != 4:\n",
        "        plt.tick_params(axis='x', which='both', bottom=False, \n",
        "                        top=False, labelbottom=False) \n",
        "\nplt.show()"
      ],
      "outputs": [],
      "execution_count": null,
      "metadata": {
        "id": "xW6FXvnOr5PD",
        "colab_type": "code",
        "colab": {
          "base_uri": "https://localhost:8080/",
          "height": 1193
        },
        "outputId": "1f0907cc-ce88-41e4-965c-904813015425"
      }
    },
    {
      "cell_type": "markdown",
      "source": [
        "The first column shows the following:\n",
        "\n",
        "1. The true function.\n",
        "2. The approximation to the original function by the gaussian process model\n",
        "3. How sure the GP is about the function.\n",
        "\n",
        "The second column shows the acquisition function values after every surrogate model is fit. It is possible that we do not choose the global minimum but a local minimum depending on the minimizer used to minimize the acquisition function.\n",
        "\nAt the points closer to the points previously evaluated at, the variance dips to zero. "
      ],
      "metadata": {
        "id": "XyH480wXr5PF",
        "colab_type": "text"
      }
    },
    {
      "cell_type": "markdown",
      "source": [
        "Finally, as we increase the number of points, the GP model approaches the actual function. The final few points are clustered around the minimum because the GP does not gain anything more by further exploration:"
      ],
      "metadata": {
        "id": "NGQKdEZtr5PG",
        "colab_type": "text"
      }
    },
    {
      "cell_type": "code",
      "source": [
        "plt.rcParams[\"figure.figsize\"] = (6, 4)\n",
        "\n",
        "# Plot f(x) + contours\n",
        "x = np.linspace(-2, 2, 400).reshape(-1, 1)\n",
        "x_gp = res.space.transform(x.tolist())\n",
        "\n",
        "fx = [f(x_i, noise_level=0.0) for x_i in x]\n",
        "plt.plot(x, fx, \"r--\", label=\"True (unknown)\")\n",
        "plt.fill(np.concatenate([x, x[::-1]]),\n",
        "         np.concatenate(([fx_i - 1.9600 * noise_level for fx_i in fx], \n",
        "                         [fx_i + 1.9600 * noise_level for fx_i in fx[::-1]])),\n",
        "         alpha=.2, fc=\"r\", ec=\"None\")\n",
        "\n",
        "# Plot GP(x) + contours\n",
        "gp = res.models[-1]\n",
        "y_pred, sigma = gp.predict(x_gp, return_std=True)\n",
        "\n",
        "plt.plot(x, y_pred, \"g--\", label=r\"$\\mu_{GP}(x)$\")\n",
        "plt.fill(np.concatenate([x, x[::-1]]),\n",
        "         np.concatenate([y_pred - 1.9600 * sigma, \n",
        "                         (y_pred + 1.9600 * sigma)[::-1]]),\n",
        "         alpha=.2, fc=\"g\", ec=\"None\")\n",
        "\n",
        "# Plot sampled points\n",
        "plt.plot(res.x_iters, \n",
        "         res.func_vals, \n",
        "         \"r.\", markersize=15, label=\"Observations\")\n",
        "\n",
        "plt.title(r\"$x^* = %.4f, f(x^*) = %.4f$\" % (res.x[0], res.fun))\n",
        "plt.legend(loc=\"best\", prop={'size': 8}, numpoints=1)\n",
        "plt.grid()\n",
        "\nplt.show()"
      ],
      "outputs": [],
      "execution_count": null,
      "metadata": {
        "id": "hwMnLNY1r5PH",
        "colab_type": "code",
        "colab": {
          "base_uri": "https://localhost:8080/",
          "height": 285
        },
        "outputId": "faf286d7-6d2a-48e5-8b91-55dca2e8765e"
      }
    },
    {
      "cell_type": "markdown",
      "source": [
        "## Optimising a classifier"
      ],
      "metadata": {}
    },
    {
      "cell_type": "code",
      "source": [
        "from skopt import BayesSearchCV\n",
        "from sklearn.datasets import load_digits\n",
        "from sklearn.svm import SVC\n",
        "from sklearn.model_selection import train_test_split\n",
        "\n",
        "X, y = load_digits(10, True)\n",
        "X_train, X_test, y_train, y_test = train_test_split(X, y, train_size=0.75, random_state=0)\n",
        "\n",
        "# log-uniform: understand as search over p = exp(x) by varying x\n",
        "opt = BayesSearchCV(\n",
        "    SVC(),\n",
        "    {\n",
        "        'C': (1e-6, 1e+6, 'log-uniform'),  \n",
        "        'gamma': (1e-6, 1e+1, 'log-uniform'),\n",
        "        'degree': (1, 8),  # integer valued parameter\n",
        "        'kernel': ['linear', 'poly', 'rbf'],  # categorical parameter\n",
        "    },\n",
        "    n_iter=32\n",
        ")\n",
        "\n",
        "opt.fit(X_train, y_train)\n",
        "\n",
        "print(\"val. score: %s\" % opt.best_score_)\n",
        "print(\"test score: %s\" % opt.score(X_test, y_test)"
      ],
      "outputs": [],
      "execution_count": null,
      "metadata": {
        "id": "j5-QBPE_s6pg",
        "colab_type": "code",
        "colab": {
          "base_uri": "https://localhost:8080/",
          "height": 1619
        },
        "outputId": "2b61642b-e5f9-460c-d968-2b67f2f57962"
      }
    },
    {
      "cell_type": "markdown",
      "source": [
        "## Homework\n",
        "Optimise the neural net from the previous example via `BayesSearchCV` \n",
        "\nMore infor can be found at https://scikit-optimize.github.io/notebooks/sklearn-gridsearchcv-replacement.html"
      ],
      "metadata": {
        "id": "56dsimIm0KAt",
        "colab_type": "code",
        "colab": {}
      }
    },
    {
      "cell_type": "markdown",
      "source": [],
      "metadata": {}
    }
  ],
  "metadata": {
    "colab": {
      "name": "bayesian-optimization.ipynb",
      "version": "0.3.2",
      "provenance": []
    },
    "kernelspec": {
      "name": "python3",
      "language": "python",
      "display_name": "Python 3"
    },
    "kernel_info": {
      "name": "python3"
    },
    "language_info": {
      "codemirror_mode": {
        "name": "ipython",
        "version": 3
      },
      "name": "python",
      "pygments_lexer": "ipython3",
      "version": "3.5.2",
      "mimetype": "text/x-python",
      "file_extension": ".py",
      "nbconvert_exporter": "python"
    },
    "nteract": {
      "version": "0.12.3"
    }
  },
  "nbformat": 4,
  "nbformat_minor": 0
}